{
 "cells": [
  {
   "cell_type": "code",
   "execution_count": 3,
   "metadata": {},
   "outputs": [],
   "source": [
    "from sqlalchemy import create_engine\n",
    "from sqlalchemy.ext.declarative import declarative_base\n",
    "from sqlalchemy import Column, Integer, String, Float\n",
    "from sqlalchemy.orm import Session"
   ]
  },
  {
   "cell_type": "code",
   "execution_count": 4,
   "metadata": {},
   "outputs": [],
   "source": [
    "Base = declarative_base()"
   ]
  },
  {
   "cell_type": "code",
   "execution_count": 5,
   "metadata": {},
   "outputs": [],
   "source": [
    "class Product(Base):\n",
    "    __tablename__ = 'surfers'\n",
    "    id = Column(Integer, primary_key=True)\n",
    "    title = Column(String(255))\n",
    "    description = Column(String(1000))\n",
    "    product_image = Column(String(500))\n",
    "    price = Column(Float)\n",
    "    likes = Column(Integer)"
   ]
  },
  {
   "cell_type": "code",
   "execution_count": 7,
   "metadata": {},
   "outputs": [],
   "source": [
    "#Add Dummy Data\n",
    "ourtitle = [\"One\", \"Two\", \"Three\", \"Four\", \"Five\", \"Six\", \"Seven\", \"Eight\", \"Nine\", \"Ten\"]\n",
    "ourdesc = [\"One\", \"Two\", \"Three\", \"Four\", \"Five\", \"Six\", \"Seven\", \"Eight\", \"Nine\", \"Ten\"]\n",
    "ourimages = [\"One\", \"Two\", \"Three\", \"Four\", \"Five\", \"Six\", \"Seven\", \"Eight\", \"Nine\", \"Ten\"]\n",
    "ourprices = [1.00, 2.00, 3.00, 4.00, 5.00, 6.00, 7.00, 8.00, 9.00, 10.00]\n",
    "ourlikes = [10, 9, 10, 8, 7, 9, 10, 30, 1, 10]\n",
    "\n",
    "engine = create_engine(\"sqlite:///product.sqlite\")\n",
    "conn = engine.connect()\n",
    "Base.metadata.create_all(conn)\n",
    "session = Session(bind=engine)\n",
    "\n",
    "for num in range(0, 10):\n",
    "    itemtoadd = Product(title=ourtitle[num], description=ourdesc[num], product_image=ourimages[num], price=ourprices[num], likes=ourlikes[num])\n",
    "    session.add(itemtoadd)\n",
    "session.commit()"
   ]
  },
  {
   "cell_type": "code",
   "execution_count": 9,
   "metadata": {
    "scrolled": true
   },
   "outputs": [
    {
     "name": "stdout",
     "output_type": "stream",
     "text": [
      "1\n",
      "One\n",
      "One\n",
      "1.0\n",
      "10\n",
      "2\n",
      "Two\n",
      "Two\n",
      "2.0\n",
      "9\n",
      "3\n",
      "Three\n",
      "Three\n",
      "3.0\n",
      "10\n",
      "4\n",
      "Four\n",
      "Four\n",
      "4.0\n",
      "8\n",
      "5\n",
      "Five\n",
      "Five\n",
      "5.0\n",
      "7\n",
      "6\n",
      "Six\n",
      "Six\n",
      "6.0\n",
      "9\n",
      "7\n",
      "Seven\n",
      "Seven\n",
      "7.0\n",
      "10\n",
      "8\n",
      "Eight\n",
      "Eight\n",
      "8.0\n",
      "30\n",
      "9\n",
      "Nine\n",
      "Nine\n",
      "9.0\n",
      "1\n",
      "10\n",
      "Ten\n",
      "Ten\n",
      "10.0\n",
      "10\n"
     ]
    }
   ],
   "source": [
    "#itemsInDB = session.query(Product)\n",
    "#for stuff in itemsInDB:\n",
    "    #print(stuff.id)\n",
    "    #print(stuff.description)\n",
    "    #print(stuff.product_image)\n",
    "    #print(stuff.price)\n",
    "    #print(stuff.likes)"
   ]
  },
  {
   "cell_type": "code",
   "execution_count": null,
   "metadata": {},
   "outputs": [],
   "source": []
  },
  {
   "cell_type": "code",
   "execution_count": null,
   "metadata": {},
   "outputs": [],
   "source": []
  },
  {
   "cell_type": "code",
   "execution_count": null,
   "metadata": {},
   "outputs": [],
   "source": []
  },
  {
   "cell_type": "code",
   "execution_count": null,
   "metadata": {},
   "outputs": [],
   "source": []
  },
  {
   "cell_type": "code",
   "execution_count": null,
   "metadata": {},
   "outputs": [],
   "source": []
  },
  {
   "cell_type": "code",
   "execution_count": null,
   "metadata": {},
   "outputs": [],
   "source": []
  }
 ],
 "metadata": {
  "kernelspec": {
   "display_name": "Python [conda env:PythonData]",
   "language": "python",
   "name": "conda-env-PythonData-py"
  },
  "language_info": {
   "codemirror_mode": {
    "name": "ipython",
    "version": 3
   },
   "file_extension": ".py",
   "mimetype": "text/x-python",
   "name": "python",
   "nbconvert_exporter": "python",
   "pygments_lexer": "ipython3",
   "version": "3.6.10"
  }
 },
 "nbformat": 4,
 "nbformat_minor": 4
}
